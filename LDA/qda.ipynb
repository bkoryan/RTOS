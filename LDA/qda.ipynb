{
 "cells": [
  {
   "cell_type": "code",
   "execution_count": 1,
   "metadata": {},
   "outputs": [],
   "source": [
    "# Import Libraries\n",
    "\n",
    "import random\n",
    "import numpy as np\n",
    "import matplotlib.pyplot as plt\n",
    "import pandas as pd\n",
    "from sklearn.model_selection import train_test_split\n",
    "from sklearn.metrics import accuracy_score\n",
    "from sklearn.discriminant_analysis import QuadraticDiscriminantAnalysis as QDA\n",
    "from sklearn.metrics import confusion_matrix, classification_report, precision_score"
   ]
  },
  {
   "cell_type": "code",
   "execution_count": 2,
   "metadata": {},
   "outputs": [],
   "source": [
    "# Import dataset\n",
    "dataset = pd.read_csv('master.csv')\n",
    "X = dataset.iloc[:, [1,6]].values\n",
    "Y = dataset.iloc[:, 2].values"
   ]
  },
  {
   "cell_type": "code",
   "execution_count": 3,
   "metadata": {},
   "outputs": [],
   "source": [
    "testSizeStr = [0.1,0.2,0.3,0.4,0.5,0.6,0.7,0.8,0.9]"
   ]
  },
  {
   "cell_type": "code",
   "execution_count": 4,
   "metadata": {},
   "outputs": [
    {
     "name": "stdout",
     "output_type": "stream",
     "text": [
      "[[1356  801]\n",
      " [  63  562]]\n",
      "69.0\n",
      "[[2642 1654]\n",
      " [ 139 1129]]\n",
      "68.0\n",
      "[[3994 2570]\n",
      " [ 203 1579]]\n",
      "67.0\n",
      "[[5273 3327]\n",
      " [ 285 2243]]\n",
      "68.0\n",
      "[[6587 4106]\n",
      " [ 380 2837]]\n",
      "68.0\n",
      "[[7868 4921]\n",
      " [ 462 3441]]\n",
      "68.0\n",
      "[[9130 5574]\n",
      " [ 609 4161]]\n",
      "68.0\n",
      "[[10264  6007]\n",
      " [  876  5109]]\n",
      "69.0\n",
      "[[11404  6547]\n",
      " [ 1111  5976]]\n",
      "69.0\n",
      "             precision    recall  f1-score   support\n",
      "\n",
      "     female      0.635     0.911     0.749     12515\n",
      "       male      0.843     0.477     0.609     12523\n",
      "\n",
      "avg / total      0.739     0.694     0.679     25038\n",
      "\n"
     ]
    }
   ],
   "source": [
    "\n",
    "for i in range(0,9):\n",
    "    from sklearn.model_selection import train_test_split\n",
    "    random.seed(i)\n",
    "    rndint = random.randint(1,50)\n",
    "    X_train, X_test, y_train, y_test = train_test_split(X, Y, test_size = testSizeStr[i], random_state = rndint)\n",
    "\n",
    "    from sklearn.preprocessing import StandardScaler\n",
    "    sc = StandardScaler()\n",
    "    X_train = sc.fit_transform(X_train)\n",
    "    X_test = sc.transform(X_test)\n",
    "    \n",
    "    clf = QDA(reg_param = testSizeStr[i])\n",
    "    clf_fit = clf.fit(X_train, y_train)\n",
    "    \n",
    "    pred2=clf_fit.predict(X_test)\n",
    "\n",
    "    print(confusion_matrix(pred2, y_test))\n",
    "    print(np.round(accuracy_score(y_test,pred2)*100))\n",
    "    print(classification_report(y_test, pred2, digits=3))"
   ]
  },
  {
   "cell_type": "code",
   "execution_count": null,
   "metadata": {},
   "outputs": [],
   "source": []
  }
 ],
 "metadata": {
  "kernelspec": {
   "display_name": "Python 3",
   "language": "python",
   "name": "python3"
  },
  "language_info": {
   "codemirror_mode": {
    "name": "ipython",
    "version": 3
   },
   "file_extension": ".py",
   "mimetype": "text/x-python",
   "name": "python",
   "nbconvert_exporter": "python",
   "pygments_lexer": "ipython3",
   "version": "3.6.7"
  }
 },
 "nbformat": 4,
 "nbformat_minor": 2
}
